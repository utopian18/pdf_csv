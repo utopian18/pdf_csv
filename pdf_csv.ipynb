{
 "cells": [
  {
   "cell_type": "code",
   "execution_count": 1,
   "id": "21c1287b-082f-4d5f-8d3e-614ec1080557",
   "metadata": {},
   "outputs": [],
   "source": [
    "from pdf2image import convert_from_path\n",
    "import ocrmypdf\n",
    "import camelot\n",
    "from pytesseract import image_to_string\n",
    "import pandas as pd\n",
    "import os"
   ]
  },
  {
   "cell_type": "code",
   "execution_count": 3,
   "id": "ef959e00-0d5f-4d9e-9f9f-304791975fa6",
   "metadata": {},
   "outputs": [],
   "source": [
    "all_dict ={}"
   ]
  },
  {
   "cell_type": "code",
   "execution_count": 4,
   "id": "0da7e72f-185f-4cbf-96c9-5f9f00262c00",
   "metadata": {},
   "outputs": [],
   "source": [
    "images_3_hvi = convert_from_path(os.listdir('data/')[1])[0]\n",
    "hvi_3_texts = image_to_string(images_3_hvi)"
   ]
  },
  {
   "cell_type": "code",
   "execution_count": 5,
   "id": "3dc4d64f-2168-454e-966a-5c87961af3fc",
   "metadata": {},
   "outputs": [],
   "source": [
    "start_ = hvi_3_texts.find('Lot')\n",
    "end_  = hvi_3_texts.find('Catalog')\n",
    "lot_id = hvi_3_texts[start_+6: end_]\n",
    "all_dict[lot_id] = hvi_3_texts"
   ]
  },
  {
   "cell_type": "code",
   "execution_count": 6,
   "id": "07694da3-25d6-450b-9054-c2d3155e4fb5",
   "metadata": {},
   "outputs": [],
   "source": [
    "hvi_cols = hvi_3_texts.split('\\n')[9:10]"
   ]
  },
  {
   "cell_type": "code",
   "execution_count": 7,
   "id": "05d04e45-efd5-42c0-8dc4-0cf7afc1cf91",
   "metadata": {},
   "outputs": [],
   "source": [
    "hvi_cols = [i for i in list(hvi_cols[0].split()) if i not in ['ID', '=']]\n"
   ]
  },
  {
   "cell_type": "code",
   "execution_count": 8,
   "id": "7114ca72-14ac-4fc6-95cf-2b5f93678c63",
   "metadata": {},
   "outputs": [],
   "source": [
    "temp= []\n",
    "for ind, line in enumerate(hvi_3_texts.split('\\n')[12:]):\n",
    "    if len(line.split())>1 and ind <10:\n",
    "        l =line.split()\n",
    "        temp.append(dict(zip(hvi_cols,l)))\n"
   ]
  },
  {
   "cell_type": "code",
   "execution_count": 9,
   "id": "bc84dc33-ed04-43a8-b8d2-08b838d61521",
   "metadata": {},
   "outputs": [],
   "source": [
    "temp_images = convert_from_path('data/IMG_20240212_0003.pdf')"
   ]
  },
  {
   "cell_type": "code",
   "execution_count": 10,
   "id": "59f50229-5349-4b7a-b965-7f3bbcf3cd3d",
   "metadata": {},
   "outputs": [
    {
     "data": {
      "text/plain": [
       "['Bale ID SCI Grade Mst Mic Mat  UHML Ul SF Str Elg Rd +b CGrd = TrCnt TrAr TrID Amt']"
      ]
     },
     "execution_count": 10,
     "metadata": {},
     "output_type": "execute_result"
    }
   ],
   "source": [
    "#hvi_cols_ =\n",
    "image_to_string(temp_images[0]).split('\\n')[9:10]"
   ]
  },
  {
   "cell_type": "code",
   "execution_count": 69,
   "id": "cb5ab4a5-7e7a-4949-a079-a173900aed72",
   "metadata": {},
   "outputs": [],
   "source": [
    "temp_images = convert_from_path('data/IMG_20240212_0006.pdf')\n",
    "hvi_report=[]\n",
    "hvi = temp_images[0]\n",
    "hvi = image_to_string(temp_images[0])\n",
    "start_ = hvi.find('Lot')\n",
    "end_ = hvi.find('Catalog')\n",
    "lot_id = hvi[start_+6:end_]\n",
    "hvi_cols = hvi.split('\\n')[34:36]\n",
    "cols = hvi_cols = [i for i in list(hvi_cols[0].split()) if i not in ['ID', '=']]\n",
    "for ind, line in enumerate(hvi.split('\\n')[37:]):\n",
    "    if len(line.split()) >0 and ind < 11:\n",
    "        line = line.split()\n",
    "        hvi_report.append(dict(zip(cols, line)))\n"
   ]
  },
  {
   "cell_type": "code",
   "execution_count": 1,
   "id": "9b03c76b-1747-43b4-922b-c3094fe20203",
   "metadata": {},
   "outputs": [],
   "source": [
    "# hvi_report"
   ]
  },
  {
   "cell_type": "code",
   "execution_count": 33,
   "id": "e305115f-e484-46b6-a746-57118d6f2924",
   "metadata": {},
   "outputs": [],
   "source": [
    "img_string = image_to_string(temp_images[0])"
   ]
  },
  {
   "cell_type": "code",
   "execution_count": 58,
   "id": "98100621-3c57-446f-b6ee-31656515bdb8",
   "metadata": {},
   "outputs": [
    {
     "data": {
      "text/plain": [
       "'01 106 82 423 0.86 27.31 793 13.4 27.8 55 72.0 91 42-4 7 0.16 2 657'"
      ]
     },
     "execution_count": 58,
     "metadata": {},
     "output_type": "execute_result"
    }
   ],
   "source": [
    "img_string.split('\\n')[37]"
   ]
  },
  {
   "cell_type": "markdown",
   "id": "b2f4019a-7eac-4f77-aff6-862fd9329938",
   "metadata": {},
   "source": [
    "## converting HVI report to CSV file codes"
   ]
  },
  {
   "cell_type": "code",
   "execution_count": 236,
   "id": "4193d35f-aff6-4810-b2e2-d0866d0f4f44",
   "metadata": {},
   "outputs": [],
   "source": [
    "for i in os.listdir(path='data/'):\n",
    "    temp_images = convert_from_path(f'data/{i}')\n",
    "    hvi_report=[]\n",
    "    hvi = temp_images[0]\n",
    "    hvi = image_to_string(temp_images[0])\n",
    "    start_ = hvi.find('Lot')\n",
    "    end_ = hvi.find('Catalog')\n",
    "    lot_id = hvi[start_+6:end_]\n",
    "    index =0\n",
    "    for ind, value in enumerate(hvi.split('\\n')):\n",
    "        if 'Bale ID' in value:    \n",
    "            index += ind \n",
    "            break\n",
    "    hvi_cols = hvi.split('\\n')[index:index+2]\n",
    "    cols = [i for i in list(hvi_cols[0].split()) if i not in ['ID', '=']]\n",
    "    for ind, line in enumerate(hvi.split('\\n')[ind+3:]):\n",
    "        if len(line.split()) >0 and ind < 11:\n",
    "            line = line.split()\n",
    "            hvi_report.append(dict(zip(cols, line)))\n",
    "    pd.DataFrame.from_dict(hvi_report).to_csv(f'data2/images_{i[-7:-4]}.csv')"
   ]
  },
  {
   "cell_type": "code",
   "execution_count": 238,
   "id": "79f5be73-c778-4251-a472-e96796580f8c",
   "metadata": {},
   "outputs": [],
   "source": [
    "img_2 =convert_from_path('data/IMG_20240212_0002.pdf')"
   ]
  },
  {
   "cell_type": "code",
   "execution_count": 241,
   "id": "bcd336a1-bacd-4b6a-ad93-f18012356d29",
   "metadata": {},
   "outputs": [],
   "source": [
    "afis_2 = image_to_string(img_2[1])"
   ]
  },
  {
   "cell_type": "code",
   "execution_count": 7,
   "id": "c6c670b1-c8e6-47d1-8688-3a0bdf751163",
   "metadata": {},
   "outputs": [],
   "source": [
    "# print(image_to_string(img_2[2]))"
   ]
  },
  {
   "cell_type": "code",
   "execution_count": 248,
   "id": "925b7c0e-c0ef-4df6-a839-11a6835b27ab",
   "metadata": {},
   "outputs": [
    {
     "name": "stdout",
     "output_type": "stream",
     "text": [
      "Z 40 | a6eq WdIS:SS:€  €Z0Z/E?/S\n",
      "\n",
      "i\n",
      "\n",
      "ee dsn\n",
      "S8Lb 82 069 Sze Ord Spe : xewW\n",
      "Gil 8 0z9 eve Leg 192 UI\n",
      "Seb Z SL 92 ve 6% %66D\n",
      "AD Lee 8s s8 ee 68 %ND\n",
      "e2b Z gL S@ €@ 8c ‘ad ‘PIS\n",
      "€S6 SL 2499 S62 89 ele ueay)\n",
      "OL u\n",
      "Z00'L 8z 149 ble 869 see OL\n",
      "S8L'L OL 899 862 veo g0€ 6\n",
      "ZrO'L ab 299 vOE 289 QLE 8\n",
      "090' 2@ : ogg OLe OLd Bee Z\n",
      "Sz6 ve 129 90€ 689 6ze 9\n",
      "O16 0@ 419 Sze 069 Sve Sg\n",
      "ele 8 299 962 999 vOe v\n",
      "SLL 8b 0z9 ere beg +9z € *\n",
      "968 vl 899 6S2 089 €lz z\n",
      "SZ6 LZ 069 o0e 902 Lze L\n",
      "furl] [6 /quo] {uiri] [6 suo] uur] [6 squ9] .\n",
      "ezig ueay danos yunog danos ezig ueay) denaqi4 yg dan saqi4 azig ueaYy dey |e}oL yu den |e}oL day dn .\n",
      "WdES‘61€ EZOZ/ET/G SUWIL Be a}eq SOL Wd1S:SS-€ EZOT/ET/G BWI 9 9}eq JU\n",
      "Ogsgz dwe, ‘ HSVHV I 4oyeE1ed0\n",
      "%8'0S ApIWNH 19y 0 JN euUlyseW,\n",
      "€2-6S5 1IZVHE = JeWWOD NOLLOO ATva = sulyseyy\n",
      "TOYLNOD ALITVND = YoHeES0\"7 NOLLOD %00} 1897] puaig\n",
      ": IWSW 9)DIHy\n",
      "SUON SOLMSILVLS @YsLsn VIMSLVW MVve I WwesBolg\n",
      "Ob di yvodey WIMALVW Mve = adh] ajdwes\n",
      "eesgolc JN IeHeaS SIdV 2976 = ajdwes\n",
      "Ov by} UOISIAA MAS SIV ‘oul ‘selBojouyoey Jajsq) +~Auedwog\n",
      "co Odd SIIV-.aILSN aiqe) Arewwns\n",
      "\n"
     ]
    }
   ],
   "source": [
    "print(afis_2)"
   ]
  },
  {
   "cell_type": "markdown",
   "id": "383fa50e-0852-451d-b117-adb2022e0b82",
   "metadata": {},
   "source": [
    "## Saving the converted pdf to csv"
   ]
  },
  {
   "cell_type": "code",
   "execution_count": 219,
   "id": "0d3257f6-ca71-4b6e-895b-a76f7afd04ce",
   "metadata": {},
   "outputs": [],
   "source": [
    "pd.DataFrame.from_dict(hvi_report).to_csv('data2/images12')"
   ]
  },
  {
   "cell_type": "code",
   "execution_count": 156,
   "id": "72caf7c6-d7ce-42c6-8981-e08176068ec1",
   "metadata": {},
   "outputs": [],
   "source": [
    "pd.DataFrame.from_dict(hvi_report).to_csv('images10')"
   ]
  },
  {
   "cell_type": "code",
   "execution_count": 143,
   "id": "95ea80d6-7754-414b-ae24-983cfd01d935",
   "metadata": {},
   "outputs": [],
   "source": [
    "pd.DataFrame.from_dict(hvi_report).to_csv('images9.csv')"
   ]
  },
  {
   "cell_type": "code",
   "execution_count": 129,
   "id": "6c695271-d898-4441-a6c3-d97c3ee3cf54",
   "metadata": {},
   "outputs": [],
   "source": [
    "pd.DataFrame.from_dict(hvi_report).to_csv('images8.csv')"
   ]
  },
  {
   "cell_type": "code",
   "execution_count": 107,
   "id": "e28cc144-5a6a-4d4d-b0a6-c0310662b000",
   "metadata": {},
   "outputs": [],
   "source": [
    "pd.DataFrame.from_dict(hvi_report).to_csv('images7.csv')"
   ]
  },
  {
   "cell_type": "code",
   "execution_count": 95,
   "id": "148e2ad5-24df-4aaa-a439-ee84163baecf",
   "metadata": {},
   "outputs": [],
   "source": [
    "pd.DataFrame.from_dict(hvi_report).to_csv('images6.csv')"
   ]
  },
  {
   "cell_type": "code",
   "execution_count": 22,
   "id": "0f411346-c7d2-456e-83f0-42103a6bc4b0",
   "metadata": {},
   "outputs": [],
   "source": [
    "pd.DataFrame.from_dict(hvi_report).to_csv('image4.csv')"
   ]
  },
  {
   "cell_type": "code",
   "execution_count": null,
   "id": "b267cb32-2143-4d8f-bba4-1d680f27b165",
   "metadata": {},
   "outputs": [],
   "source": []
  },
  {
   "cell_type": "code",
   "execution_count": null,
   "id": "b20d277d-4775-48fc-ae86-6f719c943205",
   "metadata": {},
   "outputs": [],
   "source": [
    "hvi_report = []\n",
    "for i in os.listdir('data/')[1:]:\n",
    "    temp_images = convert_from_path(f'data/{i}')\n",
    "    hvi = temp_images[0]\n",
    "    hvi = image_to_string(temp_images[0])\n",
    "    start_ = hvi.find('Lot')\n",
    "    end_ = hvi.find('Catalog')\n",
    "    lot_id = hvi[start_+6:end_]\n",
    "    hvi_cols = hvi.split('\\n')[9:10]\n",
    "    if hvi_cols in hvi:\n",
    "        cols = hvi_cols = [i for i in list(hvi_cols[0].split()) if i not in ['ID', '=']]\n",
    "        for ind, line in enumerate(hvi.split('\\n')[11:]):\n",
    "            if len(line.split()) >0 and ind < 11:\n",
    "                line = line.split()\n",
    "                hvi_report.append(dict(zip(cols, line)))"
   ]
  },
  {
   "cell_type": "code",
   "execution_count": null,
   "id": "cd61ad21-2fdc-4ffd-b6b8-fdeb63479165",
   "metadata": {},
   "outputs": [],
   "source": []
  },
  {
   "cell_type": "code",
   "execution_count": 12,
   "id": "45dda44e-eef3-468f-8d90-26699b8bc0ed",
   "metadata": {},
   "outputs": [],
   "source": [
    "# pd.DataFrame.from_dict(hvi_report)"
   ]
  },
  {
   "cell_type": "code",
   "execution_count": 13,
   "id": "ce3dcd2c-8f5e-40fb-b065-0da8053567fa",
   "metadata": {},
   "outputs": [],
   "source": [
    "# all_image_texts={}\n",
    "# for i in os.listdir('data/')[1:]:\n",
    "#     try:\n",
    "#         temp_images = convert_from_path(f'data/{i}')\n",
    "#         hvi = image_to_string(temp_images[0])\n",
    "#         Afis_neps = image_to_string(temp_images[1])\n",
    "#         Afis_rest = image_to_string(temp_images[2])\n",
    "#         start_ = hvi.find('Lot')\n",
    "#         end_ = hvi.find('Catalog')\n",
    "#         lot_id = hvi[start_+6:end_]\n",
    "#         image_texts = image_to_string(hvi)\n",
    "#         hvi_cols = image_texts.split('\\n')[9:10]\n",
    "#         cols = hvi_cols = [i for i in list(hvi_cols[0].split()) if i not in ['ID', '=']]\n",
    "#         hvi_text = image_to_string(hvi)\n",
    "#         d=[]\n",
    "#         for ind, line in enumerate(hvi_text.split('\\n')[11:]):\n",
    "#             if len(line.split()) >0 and ind < 11:\n",
    "#                 line = line.split()\n",
    "#                 d.append(dict(zip(cols, line)))\n",
    "#                 d.append(dict('lod_id', lot_id))\n",
    "#     except :\n",
    "#         raise ValueError\n",
    "#     break \n",
    "        "
   ]
  },
  {
   "cell_type": "code",
   "execution_count": 63,
   "id": "b1078c19-ef17-4095-9472-7a8fc0960c73",
   "metadata": {},
   "outputs": [],
   "source": [
    "start = s.find('Lot')"
   ]
  },
  {
   "cell_type": "code",
   "execution_count": 64,
   "id": "0c7ebd7b-5f0e-452d-8118-2f070a06b90f",
   "metadata": {},
   "outputs": [],
   "source": [
    "end = s.find('Catalog')"
   ]
  },
  {
   "cell_type": "code",
   "execution_count": 65,
   "id": "2b4b4546-687d-45cb-8cf1-363d5e28525e",
   "metadata": {},
   "outputs": [
    {
     "data": {
      "text/plain": [
       "'Lot ID BRAZIL 65-23 '"
      ]
     },
     "execution_count": 65,
     "metadata": {},
     "output_type": "execute_result"
    }
   ],
   "source": [
    "s[start: end]"
   ]
  },
  {
   "cell_type": "code",
   "execution_count": 60,
   "id": "e2c57293-86f6-46bf-b555-ec170092ad50",
   "metadata": {},
   "outputs": [
    {
     "data": {
      "text/plain": [
       "' BRAZIL 65-23'"
      ]
     },
     "execution_count": 60,
     "metadata": {},
     "output_type": "execute_result"
    }
   ],
   "source": [
    "s[s.find('Lot ID')+6: s.find('Lot ID')+ 19]"
   ]
  },
  {
   "cell_type": "code",
   "execution_count": 5,
   "id": "83717d5c-7b03-4213-82b8-88205df2334e",
   "metadata": {},
   "outputs": [],
   "source": [
    "d = convert_from_path('IMG_20240212_0003.pdf')"
   ]
  },
  {
   "cell_type": "code",
   "execution_count": 10,
   "id": "13340624-8155-43b7-9340-f94f0e438de7",
   "metadata": {},
   "outputs": [],
   "source": [
    "s = image_to_string(d[0])"
   ]
  },
  {
   "cell_type": "code",
   "execution_count": 19,
   "id": "4bce189e-f92f-4473-9304-e6bca9d05077",
   "metadata": {},
   "outputs": [
    {
     "data": {
      "text/plain": [
       "'IVORYCOAST 60-23 '"
      ]
     },
     "execution_count": 19,
     "metadata": {},
     "output_type": "execute_result"
    }
   ],
   "source": [
    "s[s.find('Lot')+6: s.find('Catalog')]"
   ]
  },
  {
   "cell_type": "code",
   "execution_count": 24,
   "id": "d7aa139f-64a9-4c6e-ac76-ee26c094e5a4",
   "metadata": {},
   "outputs": [
    {
     "data": {
      "text/plain": [
       "'Mic Ma'"
      ]
     },
     "execution_count": 24,
     "metadata": {},
     "output_type": "execute_result"
    }
   ],
   "source": [
    "s[s.find('Mic'): s.find('Mic') + 6]"
   ]
  },
  {
   "cell_type": "markdown",
   "id": "1ec504e3-87d0-42f4-bef7-77eb6de75e04",
   "metadata": {},
   "source": [
    "## Defining a function for the pdf to csv converter"
   ]
  },
  {
   "cell_type": "code",
   "execution_count": 10,
   "id": "1edf688b-9571-4ac0-a0fe-92b5255ecc77",
   "metadata": {},
   "outputs": [],
   "source": [
    "def images_to_text(img_path):\n",
    "    images = convert_from_path(img_path)\n",
    "    image_1 = images[0]\n",
    "    image_2 = images[1]\n",
    "    image_3 = images[2]\n",
    "    h = image_to_string(image_1).split('\\n')[9:10]\n",
    "    cols = [i for i in h[0].split() if i not in ['ID', '=']]\n",
    "    texts = {}\n",
    "    d =[]\n",
    "    text_1 = image_to_string(image_1)\n",
    "    for ind, line in enumerate(text_1.split('\\n')[11:]):\n",
    "        if len(line.split()) >0 and ind < 11:\n",
    "            line = line.split()\n",
    "            d.append(dict(zip(cols, line)))\n",
    "    return d"
   ]
  },
  {
   "cell_type": "code",
   "execution_count": 12,
   "id": "85504d09-36c2-4fa3-a91f-18232e4f8fdf",
   "metadata": {},
   "outputs": [],
   "source": [
    "image_1_text =images_to_text('IMG_20240212_0003.pdf')"
   ]
  },
  {
   "cell_type": "code",
   "execution_count": 13,
   "id": "b13e9774-531c-40b0-a4c6-1e7f5377e551",
   "metadata": {},
   "outputs": [
    {
     "data": {
      "text/html": [
       "<div>\n",
       "<style scoped>\n",
       "    .dataframe tbody tr th:only-of-type {\n",
       "        vertical-align: middle;\n",
       "    }\n",
       "\n",
       "    .dataframe tbody tr th {\n",
       "        vertical-align: top;\n",
       "    }\n",
       "\n",
       "    .dataframe thead th {\n",
       "        text-align: right;\n",
       "    }\n",
       "</style>\n",
       "<table border=\"1\" class=\"dataframe\">\n",
       "  <thead>\n",
       "    <tr style=\"text-align: right;\">\n",
       "      <th></th>\n",
       "      <th>Bale</th>\n",
       "      <th>SCI</th>\n",
       "      <th>Grade</th>\n",
       "      <th>Mst</th>\n",
       "      <th>Mic</th>\n",
       "      <th>Mat</th>\n",
       "      <th>UHML</th>\n",
       "      <th>Ul</th>\n",
       "      <th>SF</th>\n",
       "      <th>Str</th>\n",
       "      <th>Elg</th>\n",
       "      <th>Rd</th>\n",
       "      <th>+b</th>\n",
       "      <th>CGrd</th>\n",
       "      <th>TrCnt</th>\n",
       "      <th>TrAr</th>\n",
       "      <th>TrID</th>\n",
       "      <th>Amt</th>\n",
       "    </tr>\n",
       "  </thead>\n",
       "  <tbody>\n",
       "    <tr>\n",
       "      <th>0</th>\n",
       "      <td>07</td>\n",
       "      <td>116</td>\n",
       "      <td>73.</td>\n",
       "      <td>390</td>\n",
       "      <td>0.84</td>\n",
       "      <td>28.07</td>\n",
       "      <td>81.3</td>\n",
       "      <td>18.0</td>\n",
       "      <td>27.3</td>\n",
       "      <td>74</td>\n",
       "      <td>69.2</td>\n",
       "      <td>84</td>\n",
       "      <td>521</td>\n",
       "      <td>53</td>\n",
       "      <td>0.56</td>\n",
       "      <td>4</td>\n",
       "      <td>726</td>\n",
       "      <td>NaN</td>\n",
       "    </tr>\n",
       "    <tr>\n",
       "      <th>1</th>\n",
       "      <td>02</td>\n",
       "      <td>121</td>\n",
       "      <td>72°</td>\n",
       "      <td>3.75</td>\n",
       "      <td>0.85</td>\n",
       "      <td>29.99</td>\n",
       "      <td>796</td>\n",
       "      <td>19.4</td>\n",
       "      <td>29.2</td>\n",
       "      <td>65</td>\n",
       "      <td>72.2</td>\n",
       "      <td>98</td>\n",
       "      <td>(32-2</td>\n",
       "      <td>39</td>\n",
       "      <td>0.36</td>\n",
       "      <td>3</td>\n",
       "      <td>543</td>\n",
       "      <td>NaN</td>\n",
       "    </tr>\n",
       "    <tr>\n",
       "      <th>2</th>\n",
       "      <td>03</td>\n",
       "      <td>136</td>\n",
       "      <td>81</td>\n",
       "      <td>411</td>\n",
       "      <td>0.86</td>\n",
       "      <td>28.15</td>\n",
       "      <td>826</td>\n",
       "      <td>@22)</td>\n",
       "      <td>329</td>\n",
       "      <td>66</td>\n",
       "      <td>68.6</td>\n",
       "      <td>97</td>\n",
       "      <td>42-2</td>\n",
       "      <td>ral</td>\n",
       "      <td>0.57</td>\n",
       "      <td>4</td>\n",
       "      <td>380</td>\n",
       "      <td>NaN</td>\n",
       "    </tr>\n",
       "    <tr>\n",
       "      <th>3</th>\n",
       "      <td>()</td>\n",
       "      <td>—</td>\n",
       "      <td>429</td>\n",
       "      <td>74</td>\n",
       "      <td>4.03</td>\n",
       "      <td>0.85</td>\n",
       "      <td>28.51</td>\n",
       "      <td>82.7</td>\n",
       "      <td>13.5</td>\n",
       "      <td>30.1</td>\n",
       "      <td>67</td>\n",
       "      <td>663</td>\n",
       "      <td>8.5</td>\n",
       "      <td>van</td>\n",
       "      <td>53</td>\n",
       "      <td>0.75</td>\n",
       "      <td>4</td>\n",
       "      <td>745</td>\n",
       "    </tr>\n",
       "    <tr>\n",
       "      <th>4</th>\n",
       "      <td>05</td>\n",
       "      <td>138</td>\n",
       "      <td>8.2</td>\n",
       "      <td>3.81</td>\n",
       "      <td>0.84</td>\n",
       "      <td>27.88</td>\n",
       "      <td>81.6</td>\n",
       "      <td>(22.0)</td>\n",
       "      <td>33.3</td>\n",
       "      <td>7773.7</td>\n",
       "      <td>90</td>\n",
       "      <td>314</td>\n",
       "      <td>45</td>\n",
       "      <td>0.37</td>\n",
       "      <td>3.</td>\n",
       "      <td>Bt</td>\n",
       "      <td>NaN</td>\n",
       "      <td>NaN</td>\n",
       "    </tr>\n",
       "    <tr>\n",
       "      <th>5</th>\n",
       "      <td>06</td>\n",
       "      <td>~~</td>\n",
       "      <td>418</td>\n",
       "      <td>714.06</td>\n",
       "      <td>0.86</td>\n",
       "      <td>27.12</td>\n",
       "      <td>808</td>\n",
       "      <td>20.0</td>\n",
       "      <td>29.6</td>\n",
       "      <td>62</td>\n",
       "      <td>71.9</td>\n",
       "      <td>88</td>\n",
       "      <td>42-4</td>\n",
       "      <td>34</td>\n",
       "      <td>0.58</td>\n",
       "      <td>3</td>\n",
       "      <td>453</td>\n",
       "      <td>NaN</td>\n",
       "    </tr>\n",
       "    <tr>\n",
       "      <th>6</th>\n",
       "      <td>07</td>\n",
       "      <td>:</td>\n",
       "      <td>107</td>\n",
       "      <td>69</td>\n",
       "      <td>3.97</td>\n",
       "      <td>0.85</td>\n",
       "      <td>27.27</td>\n",
       "      <td>778</td>\n",
       "      <td>19.0</td>\n",
       "      <td>30.2</td>\n",
       "      <td>“68</td>\n",
       "      <td>72.0</td>\n",
       "      <td>91</td>\n",
       "      <td>42-1</td>\n",
       "      <td>45</td>\n",
       "      <td>0.45</td>\n",
       "      <td>4</td>\n",
       "      <td>666</td>\n",
       "    </tr>\n",
       "    <tr>\n",
       "      <th>7</th>\n",
       "      <td>08</td>\n",
       "      <td>420</td>\n",
       "      <td>78</td>\n",
       "      <td>3.99</td>\n",
       "      <td>0.84</td>\n",
       "      <td>28.03</td>\n",
       "      <td>805</td>\n",
       "      <td>188</td>\n",
       "      <td>29.7</td>\n",
       "      <td>78</td>\n",
       "      <td>70.9</td>\n",
       "      <td>95</td>\n",
       "      <td>424</td>\n",
       "      <td>45</td>\n",
       "      <td>051</td>\n",
       "      <td>4</td>\n",
       "      <td>614</td>\n",
       "      <td>NaN</td>\n",
       "    </tr>\n",
       "    <tr>\n",
       "      <th>8</th>\n",
       "      <td>09</td>\n",
       "      <td>a</td>\n",
       "      <td>114</td>\n",
       "      <td>67</td>\n",
       "      <td>3.81</td>\n",
       "      <td>0.85</td>\n",
       "      <td>27.42</td>\n",
       "      <td>81.4</td>\n",
       "      <td>20.0</td>\n",
       "      <td>26.4</td>\n",
       "      <td>63</td>\n",
       "      <td>708</td>\n",
       "      <td>89</td>\n",
       "      <td>42-1</td>\n",
       "      <td>35</td>\n",
       "      <td>0.31</td>\n",
       "      <td>3</td>\n",
       "      <td>378</td>\n",
       "    </tr>\n",
       "    <tr>\n",
       "      <th>9</th>\n",
       "      <td>10</td>\n",
       "      <td>130</td>\n",
       "      <td>81</td>\n",
       "      <td>3.75</td>\n",
       "      <td>0.84</td>\n",
       "      <td>28.21</td>\n",
       "      <td>819</td>\n",
       "      <td>17.8</td>\n",
       "      <td>31000</td>\n",
       "      <td>75</td>\n",
       "      <td>6770</td>\n",
       "      <td>857</td>\n",
       "      <td>52-1</td>\n",
       "      <td>68</td>\n",
       "      <td>0.56</td>\n",
       "      <td>4</td>\n",
       "      <td>646</td>\n",
       "      <td>NaN</td>\n",
       "    </tr>\n",
       "  </tbody>\n",
       "</table>\n",
       "</div>"
      ],
      "text/plain": [
       "  Bale  SCI Grade     Mst   Mic    Mat   UHML      Ul     SF     Str   Elg  \\\n",
       "0   07  116   73.     390  0.84  28.07   81.3    18.0   27.3      74  69.2   \n",
       "1   02  121   72°    3.75  0.85  29.99    796    19.4   29.2      65  72.2   \n",
       "2   03  136    81     411  0.86  28.15    826    @22)    329      66  68.6   \n",
       "3   ()    —   429      74  4.03   0.85  28.51    82.7   13.5    30.1    67   \n",
       "4   05  138   8.2    3.81  0.84  27.88   81.6  (22.0)   33.3  7773.7    90   \n",
       "5   06   ~~   418  714.06  0.86  27.12    808    20.0   29.6      62  71.9   \n",
       "6   07    :   107      69  3.97   0.85  27.27     778   19.0    30.2   “68   \n",
       "7   08  420    78    3.99  0.84  28.03    805     188   29.7      78  70.9   \n",
       "8   09    a   114      67  3.81   0.85  27.42    81.4   20.0    26.4    63   \n",
       "9   10  130    81    3.75  0.84  28.21    819    17.8  31000      75  6770   \n",
       "\n",
       "     Rd     +b  CGrd TrCnt  TrAr TrID  Amt  \n",
       "0    84    521    53  0.56     4  726  NaN  \n",
       "1    98  (32-2    39  0.36     3  543  NaN  \n",
       "2    97   42-2   ral  0.57     4  380  NaN  \n",
       "3   663    8.5   van    53  0.75    4  745  \n",
       "4   314     45  0.37    3.    Bt  NaN  NaN  \n",
       "5    88   42-4    34  0.58     3  453  NaN  \n",
       "6  72.0     91  42-1    45  0.45    4  666  \n",
       "7    95    424    45   051     4  614  NaN  \n",
       "8   708     89  42-1    35  0.31    3  378  \n",
       "9   857   52-1    68  0.56     4  646  NaN  "
      ]
     },
     "execution_count": 13,
     "metadata": {},
     "output_type": "execute_result"
    }
   ],
   "source": [
    "pd.DataFrame.from_dict(image_1_text)"
   ]
  },
  {
   "cell_type": "code",
   "execution_count": null,
   "id": "d01344bb-7a9d-49c7-9621-5a5cde12ae7c",
   "metadata": {},
   "outputs": [],
   "source": [
    "def images_to_text(img_path):\n",
    "    images = convert_from_path(img_path)\n",
    "    image_1 = images[0]\n",
    "    image_2 = images[1]\n",
    "    image_3 = images[2]\n",
    "    h = image_to_string(image_1).split('\\n')[9:10]\n",
    "    cols = [i for i in h[0].split() if i not in ['ID', '=']]\n",
    "    texts = {}\n",
    "    image_1_list =[]\n",
    "    text_1 = image_to_string(image_1)\n",
    "    for ind, line in enumerate(text_1.split('\\n')[11:]):\n",
    "        if len(line.split()) >0 and ind < 11:\n",
    "            line = line.split()\n",
    "            image_1_list.append(dict(zip(cols, line)))\n",
    "    return image_1_list\n",
    "    "
   ]
  },
  {
   "cell_type": "code",
   "execution_count": 2,
   "id": "fb2335dc-6f3d-47d8-9fb0-bfd141bc6a41",
   "metadata": {},
   "outputs": [],
   "source": [
    "images1 = convert_from_path('IMG_20240212_0003.pdf')"
   ]
  },
  {
   "cell_type": "code",
   "execution_count": 7,
   "id": "ce8ec4d1-5610-4831-80cd-c3758d032cc5",
   "metadata": {},
   "outputs": [],
   "source": [
    "text = image_to_string(images1[0])"
   ]
  },
  {
   "cell_type": "code",
   "execution_count": 81,
   "id": "401d78f9-dde0-486f-a848-33f1e83a30b9",
   "metadata": {},
   "outputs": [],
   "source": [
    "h = text.split('\\n')[9:10]"
   ]
  },
  {
   "cell_type": "code",
   "execution_count": 92,
   "id": "fa064ecc-b50d-4758-9c19-af3f5a935515",
   "metadata": {},
   "outputs": [],
   "source": [
    "cols = [i for i in h[0].split() if i not in ['ID', '=']]"
   ]
  },
  {
   "cell_type": "code",
   "execution_count": 12,
   "id": "d0374cd3-0407-4b6a-82d2-5e2588d21534",
   "metadata": {},
   "outputs": [],
   "source": [
    "df= df.drop(['ID', '='], axis=1)"
   ]
  },
  {
   "cell_type": "code",
   "execution_count": 93,
   "id": "be58bbfb-7303-4fb0-a561-a68ea70e43a2",
   "metadata": {},
   "outputs": [],
   "source": [
    "d = []\n",
    "cols = cols\n",
    "for ind, line in enumerate(text.split('\\n')[11:]):\n",
    "    if len(line.split()) >0 and ind <11:\n",
    "        line = line.split()\n",
    "        d.append(dict(zip(cols,line)))\n"
   ]
  },
  {
   "cell_type": "code",
   "execution_count": 7,
   "id": "36de7a4a-3580-4cd5-893a-25cc8d644e7b",
   "metadata": {},
   "outputs": [],
   "source": [
    "f ={}\n",
    "f['mic'] = 123"
   ]
  },
  {
   "cell_type": "code",
   "execution_count": 8,
   "id": "06a3bd65-78be-4a05-8ad1-b763af1524b9",
   "metadata": {},
   "outputs": [
    {
     "data": {
      "text/plain": [
       "{'mic': 123}"
      ]
     },
     "execution_count": 8,
     "metadata": {},
     "output_type": "execute_result"
    }
   ],
   "source": [
    "f"
   ]
  },
  {
   "cell_type": "code",
   "execution_count": 5,
   "id": "bcfce99a-cab3-4d89-bee7-f5e18784c867",
   "metadata": {},
   "outputs": [
    {
     "data": {
      "text/plain": [
       "{1: 'a', 2: 'b', 3: 'c'}"
      ]
     },
     "execution_count": 5,
     "metadata": {},
     "output_type": "execute_result"
    }
   ],
   "source": [
    "l = [1,2,3]\n",
    "m = ['a', 'b', 'c', 'd']\n",
    "dict(zip(l,m))"
   ]
  },
  {
   "cell_type": "code",
   "execution_count": 94,
   "id": "3b2fff8c-92bb-43e2-ae58-4e3435acb651",
   "metadata": {},
   "outputs": [
    {
     "data": {
      "text/html": [
       "<div>\n",
       "<style scoped>\n",
       "    .dataframe tbody tr th:only-of-type {\n",
       "        vertical-align: middle;\n",
       "    }\n",
       "\n",
       "    .dataframe tbody tr th {\n",
       "        vertical-align: top;\n",
       "    }\n",
       "\n",
       "    .dataframe thead th {\n",
       "        text-align: right;\n",
       "    }\n",
       "</style>\n",
       "<table border=\"1\" class=\"dataframe\">\n",
       "  <thead>\n",
       "    <tr style=\"text-align: right;\">\n",
       "      <th></th>\n",
       "      <th>Bale</th>\n",
       "      <th>SCI</th>\n",
       "      <th>Grade</th>\n",
       "      <th>Mst</th>\n",
       "      <th>Mic</th>\n",
       "      <th>Mat</th>\n",
       "      <th>UHML</th>\n",
       "      <th>Ul</th>\n",
       "      <th>SF</th>\n",
       "      <th>Str</th>\n",
       "      <th>Elg</th>\n",
       "      <th>Rd</th>\n",
       "      <th>+b</th>\n",
       "      <th>CGrd</th>\n",
       "      <th>TrCnt</th>\n",
       "      <th>TrAr</th>\n",
       "      <th>TrID</th>\n",
       "      <th>Amt</th>\n",
       "    </tr>\n",
       "  </thead>\n",
       "  <tbody>\n",
       "    <tr>\n",
       "      <th>0</th>\n",
       "      <td>07</td>\n",
       "      <td>116</td>\n",
       "      <td>73.</td>\n",
       "      <td>390</td>\n",
       "      <td>0.84</td>\n",
       "      <td>28.07</td>\n",
       "      <td>81.3</td>\n",
       "      <td>18.0</td>\n",
       "      <td>27.3</td>\n",
       "      <td>74</td>\n",
       "      <td>69.2</td>\n",
       "      <td>84</td>\n",
       "      <td>521</td>\n",
       "      <td>53</td>\n",
       "      <td>0.56</td>\n",
       "      <td>4</td>\n",
       "      <td>726</td>\n",
       "      <td>NaN</td>\n",
       "    </tr>\n",
       "    <tr>\n",
       "      <th>1</th>\n",
       "      <td>02</td>\n",
       "      <td>121</td>\n",
       "      <td>72°</td>\n",
       "      <td>3.75</td>\n",
       "      <td>0.85</td>\n",
       "      <td>29.99</td>\n",
       "      <td>796</td>\n",
       "      <td>19.4</td>\n",
       "      <td>29.2</td>\n",
       "      <td>65</td>\n",
       "      <td>72.2</td>\n",
       "      <td>98</td>\n",
       "      <td>(32-2</td>\n",
       "      <td>39</td>\n",
       "      <td>0.36</td>\n",
       "      <td>3</td>\n",
       "      <td>543</td>\n",
       "      <td>NaN</td>\n",
       "    </tr>\n",
       "    <tr>\n",
       "      <th>2</th>\n",
       "      <td>03</td>\n",
       "      <td>136</td>\n",
       "      <td>81</td>\n",
       "      <td>411</td>\n",
       "      <td>0.86</td>\n",
       "      <td>28.15</td>\n",
       "      <td>826</td>\n",
       "      <td>@22)</td>\n",
       "      <td>329</td>\n",
       "      <td>66</td>\n",
       "      <td>68.6</td>\n",
       "      <td>97</td>\n",
       "      <td>42-2</td>\n",
       "      <td>ral</td>\n",
       "      <td>0.57</td>\n",
       "      <td>4</td>\n",
       "      <td>380</td>\n",
       "      <td>NaN</td>\n",
       "    </tr>\n",
       "    <tr>\n",
       "      <th>3</th>\n",
       "      <td>()</td>\n",
       "      <td>—</td>\n",
       "      <td>429</td>\n",
       "      <td>74</td>\n",
       "      <td>4.03</td>\n",
       "      <td>0.85</td>\n",
       "      <td>28.51</td>\n",
       "      <td>82.7</td>\n",
       "      <td>13.5</td>\n",
       "      <td>30.1</td>\n",
       "      <td>67</td>\n",
       "      <td>663</td>\n",
       "      <td>8.5</td>\n",
       "      <td>van</td>\n",
       "      <td>53</td>\n",
       "      <td>0.75</td>\n",
       "      <td>4</td>\n",
       "      <td>745</td>\n",
       "    </tr>\n",
       "    <tr>\n",
       "      <th>4</th>\n",
       "      <td>05</td>\n",
       "      <td>138</td>\n",
       "      <td>8.2</td>\n",
       "      <td>3.81</td>\n",
       "      <td>0.84</td>\n",
       "      <td>27.88</td>\n",
       "      <td>81.6</td>\n",
       "      <td>(22.0)</td>\n",
       "      <td>33.3</td>\n",
       "      <td>7773.7</td>\n",
       "      <td>90</td>\n",
       "      <td>314</td>\n",
       "      <td>45</td>\n",
       "      <td>0.37</td>\n",
       "      <td>3.</td>\n",
       "      <td>Bt</td>\n",
       "      <td>NaN</td>\n",
       "      <td>NaN</td>\n",
       "    </tr>\n",
       "    <tr>\n",
       "      <th>5</th>\n",
       "      <td>06</td>\n",
       "      <td>~~</td>\n",
       "      <td>418</td>\n",
       "      <td>714.06</td>\n",
       "      <td>0.86</td>\n",
       "      <td>27.12</td>\n",
       "      <td>808</td>\n",
       "      <td>20.0</td>\n",
       "      <td>29.6</td>\n",
       "      <td>62</td>\n",
       "      <td>71.9</td>\n",
       "      <td>88</td>\n",
       "      <td>42-4</td>\n",
       "      <td>34</td>\n",
       "      <td>0.58</td>\n",
       "      <td>3</td>\n",
       "      <td>453</td>\n",
       "      <td>NaN</td>\n",
       "    </tr>\n",
       "    <tr>\n",
       "      <th>6</th>\n",
       "      <td>07</td>\n",
       "      <td>:</td>\n",
       "      <td>107</td>\n",
       "      <td>69</td>\n",
       "      <td>3.97</td>\n",
       "      <td>0.85</td>\n",
       "      <td>27.27</td>\n",
       "      <td>778</td>\n",
       "      <td>19.0</td>\n",
       "      <td>30.2</td>\n",
       "      <td>“68</td>\n",
       "      <td>72.0</td>\n",
       "      <td>91</td>\n",
       "      <td>42-1</td>\n",
       "      <td>45</td>\n",
       "      <td>0.45</td>\n",
       "      <td>4</td>\n",
       "      <td>666</td>\n",
       "    </tr>\n",
       "    <tr>\n",
       "      <th>7</th>\n",
       "      <td>08</td>\n",
       "      <td>420</td>\n",
       "      <td>78</td>\n",
       "      <td>3.99</td>\n",
       "      <td>0.84</td>\n",
       "      <td>28.03</td>\n",
       "      <td>805</td>\n",
       "      <td>188</td>\n",
       "      <td>29.7</td>\n",
       "      <td>78</td>\n",
       "      <td>70.9</td>\n",
       "      <td>95</td>\n",
       "      <td>424</td>\n",
       "      <td>45</td>\n",
       "      <td>051</td>\n",
       "      <td>4</td>\n",
       "      <td>614</td>\n",
       "      <td>NaN</td>\n",
       "    </tr>\n",
       "    <tr>\n",
       "      <th>8</th>\n",
       "      <td>09</td>\n",
       "      <td>a</td>\n",
       "      <td>114</td>\n",
       "      <td>67</td>\n",
       "      <td>3.81</td>\n",
       "      <td>0.85</td>\n",
       "      <td>27.42</td>\n",
       "      <td>81.4</td>\n",
       "      <td>20.0</td>\n",
       "      <td>26.4</td>\n",
       "      <td>63</td>\n",
       "      <td>708</td>\n",
       "      <td>89</td>\n",
       "      <td>42-1</td>\n",
       "      <td>35</td>\n",
       "      <td>0.31</td>\n",
       "      <td>3</td>\n",
       "      <td>378</td>\n",
       "    </tr>\n",
       "    <tr>\n",
       "      <th>9</th>\n",
       "      <td>10</td>\n",
       "      <td>130</td>\n",
       "      <td>81</td>\n",
       "      <td>3.75</td>\n",
       "      <td>0.84</td>\n",
       "      <td>28.21</td>\n",
       "      <td>819</td>\n",
       "      <td>17.8</td>\n",
       "      <td>31000</td>\n",
       "      <td>75</td>\n",
       "      <td>6770</td>\n",
       "      <td>857</td>\n",
       "      <td>52-1</td>\n",
       "      <td>68</td>\n",
       "      <td>0.56</td>\n",
       "      <td>4</td>\n",
       "      <td>646</td>\n",
       "      <td>NaN</td>\n",
       "    </tr>\n",
       "  </tbody>\n",
       "</table>\n",
       "</div>"
      ],
      "text/plain": [
       "  Bale  SCI Grade     Mst   Mic    Mat   UHML      Ul     SF     Str   Elg  \\\n",
       "0   07  116   73.     390  0.84  28.07   81.3    18.0   27.3      74  69.2   \n",
       "1   02  121   72°    3.75  0.85  29.99    796    19.4   29.2      65  72.2   \n",
       "2   03  136    81     411  0.86  28.15    826    @22)    329      66  68.6   \n",
       "3   ()    —   429      74  4.03   0.85  28.51    82.7   13.5    30.1    67   \n",
       "4   05  138   8.2    3.81  0.84  27.88   81.6  (22.0)   33.3  7773.7    90   \n",
       "5   06   ~~   418  714.06  0.86  27.12    808    20.0   29.6      62  71.9   \n",
       "6   07    :   107      69  3.97   0.85  27.27     778   19.0    30.2   “68   \n",
       "7   08  420    78    3.99  0.84  28.03    805     188   29.7      78  70.9   \n",
       "8   09    a   114      67  3.81   0.85  27.42    81.4   20.0    26.4    63   \n",
       "9   10  130    81    3.75  0.84  28.21    819    17.8  31000      75  6770   \n",
       "\n",
       "     Rd     +b  CGrd TrCnt  TrAr TrID  Amt  \n",
       "0    84    521    53  0.56     4  726  NaN  \n",
       "1    98  (32-2    39  0.36     3  543  NaN  \n",
       "2    97   42-2   ral  0.57     4  380  NaN  \n",
       "3   663    8.5   van    53  0.75    4  745  \n",
       "4   314     45  0.37    3.    Bt  NaN  NaN  \n",
       "5    88   42-4    34  0.58     3  453  NaN  \n",
       "6  72.0     91  42-1    45  0.45    4  666  \n",
       "7    95    424    45   051     4  614  NaN  \n",
       "8   708     89  42-1    35  0.31    3  378  \n",
       "9   857   52-1    68  0.56     4  646  NaN  "
      ]
     },
     "execution_count": 94,
     "metadata": {},
     "output_type": "execute_result"
    }
   ],
   "source": [
    "pd.DataFrame.from_dict(d)"
   ]
  },
  {
   "cell_type": "code",
   "execution_count": 19,
   "id": "80802c61-54f8-4b28-b5d2-5da196bcccd0",
   "metadata": {},
   "outputs": [
    {
     "name": "stdout",
     "output_type": "stream",
     "text": [
      "System Testing - Individual Tests\n",
      "\n",
      "USTER® HVI 1000\n",
      "\n",
      "LotID IVORYCOAST 60-23 Catalog ,\n",
      "Operator HVI SW Version 3.4.2.76\n",
      "Print Date 5/23/2023 Serial Number 2106548\n",
      "Print Time 12:12:09PM Test Mode 4\n",
      "Short/Weak Reference Upland 34459 Long/Strong Reference Upland 34545\n",
      "Bale ID SCI Grade Mst Mic Mat  UHML Ul SF Str Elg Rd +b CGrd = TrCnt TrAr TrID Amt\n",
      "[%] [matt] [mm] [%] [CN%] [g/tex] [%] Upland [%] LeafGrd\n",
      "\n",
      "07 116 73. 390 0.84 28.07 81.3 18.0 27.3 74 69.2 84 521 53 0.56 4 726\n",
      "02 121 72° 3.75 0.85 29.99 796 19.4 29.2 65 72.2 98 (32-2 39 0.36 3 543\n",
      "03 136 81 411 0.86 28.15 826 @22) 329 66 68.6 97 42-2 ral 0.57 4 380\n",
      "() — 429 74 4.03 0.85 28.51 82.7 13.5 30.1 67 663 8.5 van 53 0.75 4 745\n",
      "05 138 8.2 3.81 0.84 27.88 81.6 (22.0) 33.3 7773.7 90 314 45 0.37 3. Bt\n",
      "06 ~~ 418 714.06 0.86 27.12 808 20.0 29.6 62 71.9 88 42-4 34 0.58 3 453\n",
      "07 : 107 69 3.97 0.85 27.27 778 19.0 30.2 “68 72.0 91 42-1 45 0.45 4 666\n",
      "08 420 78 3.99 0.84 28.03 805 188 29.7 78 70.9 95 424 45 051 4 614\n",
      "09 a 114 67 3.81 0.85 27.42 81.4 20.0 26.4 63 708 89 42-1 35 0.31 3 378\n",
      "10 130 81 3.75 0.84 28.21 819 17.8 31000 75 6770 857 52-1 68 0.56 4 646\n",
      "n 10\n",
      "\n",
      "Average 123 75 3.92 0.85 28.06 81.0 ¢ 19.0 30.0 70 70.3 9.0 42-2 49 0.50 4 566\n",
      "Std.Dev. 10 05 013 0.01 0.81 15 ; 24 0.6 2.3 05 13 0.13 134.4\n",
      "CV% 8.1 72 3.4 0.7 2.9 18 129 7A 8.6 3.3 5.5 26.0 26.2 ; 23.7\n",
      "Q99% +/- 10 06 0.14 0.01 0.83 15 25 2.2 0.6 24 0S 13 0.14 138.1\n",
      "Min 107 67 3.75 0.84 27.12 778 3.5) 26.4 62 663 8.4 34 0.31 378\n",
      "Max 138 82 411 0.86 29.99 827 G22) 33.3 78 737 9.8 ral 0.75 745\n",
      "\n",
      "System Testing - Individual Tests\n",
      "\n",
      "Page 1 of 1\n",
      "\n"
     ]
    }
   ],
   "source": [
    "print(text)"
   ]
  },
  {
   "cell_type": "code",
   "execution_count": null,
   "id": "ead1492a-d62f-4509-bca7-a6a96f5e8335",
   "metadata": {},
   "outputs": [],
   "source": []
  }
 ],
 "metadata": {
  "kernelspec": {
   "display_name": "Python 3 (ipykernel)",
   "language": "python",
   "name": "python3"
  },
  "language_info": {
   "codemirror_mode": {
    "name": "ipython",
    "version": 3
   },
   "file_extension": ".py",
   "mimetype": "text/x-python",
   "name": "python",
   "nbconvert_exporter": "python",
   "pygments_lexer": "ipython3",
   "version": "3.12.2"
  }
 },
 "nbformat": 4,
 "nbformat_minor": 5
}
